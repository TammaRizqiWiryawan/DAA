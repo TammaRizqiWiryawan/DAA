{
  "cells": [
    {
      "cell_type": "markdown",
      "metadata": {
        "id": "view-in-github",
        "colab_type": "text"
      },
      "source": [
        "<a href=\"https://colab.research.google.com/github/TammaRizqiWiryawan/DAA/blob/main/Pertemuan_11.ipynb\" target=\"_parent\"><img src=\"https://colab.research.google.com/assets/colab-badge.svg\" alt=\"Open In Colab\"/></a>"
      ]
    },
    {
      "cell_type": "code",
      "source": [
        "#Membuat graph dengan elemen v={a,b,c,d,e}, E= {ab, ac, bd,cd,de}\n",
        "# a-----b\n",
        "# /     /\n",
        "# /     /\n",
        "# C-----d-----e"
      ],
      "metadata": {
        "id": "VB-RlsDtLGJo"
      },
      "execution_count": 14,
      "outputs": []
    },
    {
      "cell_type": "code",
      "source": [
        "#Create the dictionary with graph elements\n",
        "graph = {\"a\" : [\"b\",\"c\"],\n",
        "         \"b\" : [\"a\", \"d\"],\n",
        "         \"c\" : [\"a\", \"d\"],\n",
        "         \"d\" : [\"e\"],\n",
        "         \"e\" : [\"d\"]\n",
        "         }\n",
        "\n",
        "#print the graph\n",
        "print(graph)\n"
      ],
      "metadata": {
        "id": "NuquBy5HLIbX",
        "outputId": "9e3ae6d6-f87d-4367-8f5b-48f88f1159a9",
        "colab": {
          "base_uri": "https://localhost:8080/"
        }
      },
      "execution_count": 15,
      "outputs": [
        {
          "output_type": "stream",
          "name": "stdout",
          "text": [
            "{'a': ['b', 'c'], 'b': ['a', 'd'], 'c': ['a', 'd'], 'd': ['e'], 'e': ['d']}\n"
          ]
        }
      ]
    },
    {
      "cell_type": "code",
      "source": [
        "#T----------U--------V\n",
        "#|                   |\n",
        "#W-------------------X\n",
        "#|                   |\n",
        "#Z                   S"
      ],
      "metadata": {
        "id": "uopelHqTMyub"
      },
      "execution_count": 16,
      "outputs": []
    },
    {
      "cell_type": "code",
      "source": [
        "#Create the dictionary with graph elements\n",
        "graph = {\"t\" : [\"u\",\"w\"],\n",
        "         \"u\" : [\"t\", \"v\"],\n",
        "         \"v\" : [\"u\", \"x\"],\n",
        "         \"w\" : [\"z\", \"x\"],\n",
        "         \"x\" : [\"w\", \"x\"],\n",
        "         \"z\" : [\"w\"],\n",
        "         \"s\" : [\"x\"]\n",
        "         }\n",
        "\n",
        "#print the graph\n",
        "print(graph)"
      ],
      "metadata": {
        "id": "7IP7UNvGM70M",
        "colab": {
          "base_uri": "https://localhost:8080/"
        },
        "outputId": "f73b564d-ab55-4e57-c88e-3619b706dfcb"
      },
      "execution_count": 17,
      "outputs": [
        {
          "output_type": "stream",
          "name": "stdout",
          "text": [
            "{'t': ['u', 'w'], 'u': ['t', 'v'], 'v': ['u', 'x'], 'w': ['z', 'x'], 'x': ['w', 'x'], 'z': ['w'], 's': ['x']}\n"
          ]
        }
      ]
    },
    {
      "cell_type": "code",
      "source": [
        "#Create the dictionary with graph elements\n",
        "graph = {\"r\" : [\"o\",\"l\"],\n",
        "         \"o\" : [\"r\", \"m\", \"p\"],\n",
        "         \"m\" : [\"o\", \"n\"],\n",
        "         \"n\" : [\"m\", \"p\"],\n",
        "         \"p\" : [\"o\", \"n\"],\n",
        "         \"l\" : [\"r\", \"p\"]\n",
        "         }\n",
        "\n",
        "#print the graph\n",
        "print(graph)"
      ],
      "metadata": {
        "id": "VolrLXSvNKJ1",
        "colab": {
          "base_uri": "https://localhost:8080/"
        },
        "outputId": "74c29d95-30cd-48da-923f-9ea8ae3e2dcf"
      },
      "execution_count": 18,
      "outputs": [
        {
          "output_type": "stream",
          "name": "stdout",
          "text": [
            "{'r': ['o', 'l'], 'o': ['r', 'm', 'p'], 'm': ['o', 'n'], 'n': ['m', 'p'], 'p': ['o', 'n'], 'l': ['r', 'p']}\n"
          ]
        }
      ]
    },
    {
      "cell_type": "code",
      "source": [
        "class Graph:\n",
        "  def __init__(self, gdict=None):\n",
        "      if gdict is None:\n",
        "         gdict = ()\n",
        "      self.gdict = gdict\n",
        "\n",
        "  #Get the keys of the dictionary\n",
        "  def getVertices(self):\n",
        "      return list(self.gdict.keys())\n",
        "\n",
        "#Create dictionary with graph elements\n",
        "graph_elements = {\n",
        "         \"a\" : [\"b\",\"c\"],\n",
        "         \"b\" : [\"a\", \"d\"],\n",
        "         \"c\" : [\"a\", \"d\"],\n",
        "         \"d\" : [\"e\"],\n",
        "         \"e\" : [\"d\"]\n",
        "}\n",
        "\n",
        "#Create an instance of the graph class and pass the graph_elements\n",
        "g = Graph(graph_elements)\n",
        "\n",
        "#print the vertices by calling the getVertices method with parentheses\n",
        "print(g.getVertices())"
      ],
      "metadata": {
        "id": "KebmpKvuNKQi",
        "outputId": "e282afe8-ec41-40b5-a06e-ccf3c08ff3cd",
        "colab": {
          "base_uri": "https://localhost:8080/"
        }
      },
      "execution_count": 19,
      "outputs": [
        {
          "output_type": "stream",
          "name": "stdout",
          "text": [
            "['a', 'b', 'c', 'd', 'e']\n"
          ]
        }
      ]
    },
    {
      "cell_type": "code",
      "source": [
        "class Graph:\n",
        "  def __init__(self, gdict=None):\n",
        "      if gdict is None:\n",
        "         gdict = ()\n",
        "      self.gdict = gdict\n",
        "\n",
        "  #Get the keys of the dictionary\n",
        "  def getVertices(self):\n",
        "      return list(self.gdict.keys())\n",
        "\n",
        "#Create the dictionary with graph elements\n",
        "graph_elements= {\"t\" : [\"u\",\"w\"],\n",
        "         \"u\" : [\"t\", \"v\"],\n",
        "         \"v\" : [\"u\", \"x\"],\n",
        "         \"w\" : [\"z\", \"x\"],\n",
        "         \"x\" : [\"w\", \"x\"],\n",
        "         \"z\" : [\"w\"],\n",
        "         \"s\" : [\"x\"]\n",
        "         }\n",
        "#Create an instance of the graph class and pass the graph_elements\n",
        "g = Graph(graph_elements)\n",
        "\n",
        "#print the vertices by calling the getVertices method with parentheses\n",
        "print(g.getVertices())"
      ],
      "metadata": {
        "colab": {
          "base_uri": "https://localhost:8080/"
        },
        "id": "Tn_ABjrD5QQz",
        "outputId": "8efd993b-ee9c-4bae-a641-1f63b349d3bc"
      },
      "execution_count": 20,
      "outputs": [
        {
          "output_type": "stream",
          "name": "stdout",
          "text": [
            "['t', 'u', 'v', 'w', 'x', 'z', 's']\n"
          ]
        }
      ]
    },
    {
      "cell_type": "code",
      "source": [
        "class Graph:\n",
        "  def __init__(self, gdict=None):\n",
        "      if gdict is None:\n",
        "         gdict = ()\n",
        "      self.gdict = gdict\n",
        "\n",
        "  #Get the keys of the dictionary\n",
        "  def getVertices(self):\n",
        "      return list(self.gdict.keys())\n",
        "\n",
        "#Create the dictionary with graph elements\n",
        "graph_elements= {\"r\" : [\"o\",\"l\"],\n",
        "         \"o\" : [\"r\", \"m\", \"p\"],\n",
        "         \"m\" : [\"o\", \"n\"],\n",
        "         \"n\" : [\"m\", \"p\"],\n",
        "         \"p\" : [\"o\", \"n\"],\n",
        "         \"l\" : [\"r\", \"p\"]\n",
        "         }\n",
        "#Create an instance of the graph class and pass the graph_elements\n",
        "g = Graph(graph_elements)\n",
        "\n",
        "#print the vertices by calling the getVertices method with parentheses\n",
        "print(g.getVertices())"
      ],
      "metadata": {
        "colab": {
          "base_uri": "https://localhost:8080/"
        },
        "id": "rgqTvNXlU1Th",
        "outputId": "28e14622-f2d3-40a2-eaed-82a9a5026830"
      },
      "execution_count": 21,
      "outputs": [
        {
          "output_type": "stream",
          "name": "stdout",
          "text": [
            "['r', 'o', 'm', 'n', 'p', 'l']\n"
          ]
        }
      ]
    },
    {
      "cell_type": "code",
      "source": [
        "class graph:\n",
        "    def __init__(self,gdict=None):\n",
        "      if gdict is None:\n",
        "          gdict = {}\n",
        "      self.gdict = gdict\n",
        "    def edges (self):\n",
        "        return self.findedges()\n",
        "# Find the distinct list of edges\n",
        "    def findedges (self):\n",
        "        edgename = []\n",
        "        for vrtx in self.gdict:\n",
        "            for nxtvrtx in self.gdict[vrtx]:\n",
        "                if {nxtvrtx, vrtx} not in edgename: edgename.append({vrtx, nxtvrtx})\n",
        "        return edgename\n",
        "# Create the dictionary with graph elements\n",
        "graph_elements = { \"a\" : [\"b\",\"c\"],\n",
        "                \"b\" : [\"a\", \"d\"],\n",
        "                \"C\" : [\"a\", \"d\"],\n",
        "                \"d\" : [\"e\"],\n",
        "                \"e\" : [\"d\"]\n",
        "                }\n",
        "g = graph (graph_elements)\n",
        "print(g.edges())"
      ],
      "metadata": {
        "colab": {
          "base_uri": "https://localhost:8080/"
        },
        "id": "WTZUkkb0VcNY",
        "outputId": "3ffb6dce-f91e-4e99-9752-b53b666c90e0"
      },
      "execution_count": 22,
      "outputs": [
        {
          "output_type": "stream",
          "name": "stdout",
          "text": [
            "[{'b', 'a'}, {'c', 'a'}, {'d', 'b'}, {'C', 'a'}, {'C', 'd'}, {'d', 'e'}]\n"
          ]
        }
      ]
    },
    {
      "cell_type": "code",
      "source": [
        "class graph:\n",
        "    def __init__(self,gdict=None):\n",
        "      if gdict is None:\n",
        "          gdict = {}\n",
        "      self.gdict = gdict\n",
        "    def edges (self):\n",
        "        return self.findedges()\n",
        "# Find the distinct list of edges\n",
        "    def findedges (self):\n",
        "        edgename = []\n",
        "        for vrtx in self.gdict:\n",
        "            for nxtvrtx in self.gdict[vrtx]:\n",
        "                if {nxtvrtx, vrtx} not in edgename: edgename.append({vrtx, nxtvrtx})\n",
        "        return edgename\n",
        "# Create the dictionary with graph elements\n",
        "graph_elements = {\n",
        "         \"s\" : [\"x\"],\n",
        "         \"T\" : [\"U\", 'W'],\n",
        "         \"U\" : [\"V\", \"x\"],\n",
        "         \"V\" : [\"U\", \"x\"],\n",
        "         \"W\" : [\"x\", \"T\"],\n",
        "         \"x\" : [\"W\", \"s\"],\n",
        "         \"Z\" : [\"x\", \"W\"],\n",
        "         }\n",
        "g = graph (graph_elements)\n",
        "print(g.edges())"
      ],
      "metadata": {
        "colab": {
          "base_uri": "https://localhost:8080/"
        },
        "id": "Q-XUh0GDVi8j",
        "outputId": "b89b51d8-72b3-4d0c-8ad9-f6986e9cc242"
      },
      "execution_count": 23,
      "outputs": [
        {
          "output_type": "stream",
          "name": "stdout",
          "text": [
            "[{'x', 's'}, {'U', 'T'}, {'T', 'W'}, {'U', 'V'}, {'U', 'x'}, {'x', 'V'}, {'W', 'x'}, {'x', 'Z'}, {'W', 'Z'}]\n"
          ]
        }
      ]
    },
    {
      "cell_type": "code",
      "source": [
        "class graph:\n",
        "    def __init__(self,gdict=None):\n",
        "      if gdict is None:\n",
        "          gdict = {}\n",
        "      self.gdict = gdict\n",
        "    def edges (self):\n",
        "        return self.findedges()\n",
        "# Find the distinct list of edges\n",
        "    def findedges (self):\n",
        "        edgename = []\n",
        "        for vrtx in self.gdict:\n",
        "            for nxtvrtx in self.gdict[vrtx]:\n",
        "                if {nxtvrtx, vrtx} not in edgename: edgename.append({vrtx, nxtvrtx})\n",
        "        return edgename\n",
        "# Create the dictionary with graph elements\n",
        "graph_elements =  {\n",
        "         \"r\" : [\"o\", \"l\"],\n",
        "         \"o\" : [\"r\", \"m\", \"p\"],\n",
        "         \"m\" : [\"n\", \"o\"],\n",
        "         \"l\" : [\"p\"],\n",
        "         \"m\" : [\"n\"],\n",
        "         \"n\" : [\"m\", \"p\"],\n",
        "         \"p\" : [\"l\", \"n\", \"o\"]\n",
        "         }\n",
        "g = graph (graph_elements)\n",
        "print(g.edges())"
      ],
      "metadata": {
        "colab": {
          "base_uri": "https://localhost:8080/"
        },
        "id": "BIHt8NHnVmQC",
        "outputId": "47cd3c12-6a3b-4e4a-f389-978aea92c75b"
      },
      "execution_count": 24,
      "outputs": [
        {
          "output_type": "stream",
          "name": "stdout",
          "text": [
            "[{'r', 'o'}, {'l', 'r'}, {'m', 'o'}, {'p', 'o'}, {'n', 'm'}, {'p', 'l'}, {'n', 'p'}]\n"
          ]
        }
      ]
    },
    {
      "cell_type": "code",
      "source": [
        "class graph:\n",
        "  def __init__(self, gdict=None):\n",
        "      if gdict is None:\n",
        "         gdict = {}\n",
        "      self.gdict = gdict\n",
        "\n",
        "  #Get the keys of the dictionary\n",
        "  def getVertices(self):\n",
        "      return list(self.gdict.keys())\n",
        "\n",
        "#Add the vertex as a key\n",
        "  def addVertex(self, vrtx):\n",
        "      if vrtx not in self.gdict:\n",
        "            self.gdict[vrtx] = []\n",
        "\n",
        "#Create dictionary with graph elements\n",
        "graph_elements = {\n",
        "         \"a\" : [\"b\",\"c\"],\n",
        "         \"b\" : [\"a\", \"d\"],\n",
        "         \"c\" : [\"a\", \"d\"],\n",
        "         \"d\" : [\"e\"],\n",
        "         \"e\" : [\"d\"]\n",
        "}\n",
        "\n",
        "g = graph(graph_elements)\n",
        "g.addVertex(\"f\")\n",
        "print(g.getVertices())"
      ],
      "metadata": {
        "id": "BG-PWbIcOpEZ",
        "outputId": "617fa8d4-da80-4e48-eaed-d92a342ce07f",
        "colab": {
          "base_uri": "https://localhost:8080/"
        }
      },
      "execution_count": 25,
      "outputs": [
        {
          "output_type": "stream",
          "name": "stdout",
          "text": [
            "['a', 'b', 'c', 'd', 'e', 'f']\n"
          ]
        }
      ]
    },
    {
      "cell_type": "code",
      "source": [
        "class graph:\n",
        "  def __init__(self, gdict=None):\n",
        "      if gdict is None:\n",
        "         gdict = {}\n",
        "      self.gdict = gdict\n",
        "\n",
        "  #Get the keys of the dictionary\n",
        "  def getVertices(self):\n",
        "      return list(self.gdict.keys())\n",
        "\n",
        "#Add the vertex as a key\n",
        "  def addVertex(self, vrtx):\n",
        "      if vrtx not in self.gdict:\n",
        "            self.gdict[vrtx] = []\n",
        "\n",
        "#Create dictionary with graph elements\n",
        "graph_elements= {\"t\" : [\"u\",\"w\"],\n",
        "         \"u\" : [\"t\", \"v\"],\n",
        "         \"v\" : [\"u\", \"x\"],\n",
        "         \"w\" : [\"z\", \"x\"],\n",
        "         \"x\" : [\"w\", \"x\"],\n",
        "         \"z\" : [\"w\"],\n",
        "         \"s\" : [\"x\"]\n",
        "         }\n",
        "\n",
        "g = graph(graph_elements)\n",
        "g.addVertex(\"r\")\n",
        "print(g.getVertices())"
      ],
      "metadata": {
        "id": "eEQ3i3nOURye",
        "colab": {
          "base_uri": "https://localhost:8080/"
        },
        "outputId": "f2c1916f-c7fb-4a52-92c7-4ecd563e476f"
      },
      "execution_count": 26,
      "outputs": [
        {
          "output_type": "stream",
          "name": "stdout",
          "text": [
            "['t', 'u', 'v', 'w', 'x', 'z', 's', 'r']\n"
          ]
        }
      ]
    },
    {
      "cell_type": "code",
      "source": [
        "class graph:\n",
        "  def __init__(self, gdict=None):\n",
        "      if gdict is None:\n",
        "         gdict = {}\n",
        "      self.gdict = gdict\n",
        "\n",
        "  #Get the keys of the dictionary\n",
        "  def getVertices(self):\n",
        "      return list(self.gdict.keys())\n",
        "\n",
        "#Add the vertex as a key\n",
        "  def addVertex(self, vrtx):\n",
        "      if vrtx not in self.gdict:\n",
        "            self.gdict[vrtx] = []\n",
        "\n",
        "#Create dictionary with graph elements\n",
        "graph_elements= {\"r\" : [\"o\",\"i\"],\n",
        "         \"o\" : [\"r\", \"m\", \"p\"],\n",
        "         \"m\" : [\"o\", \"n\"],\n",
        "         \"n\" : [\"m\", \"p\"],\n",
        "         \"p\" : [\"o\", \"n\"],\n",
        "         \"i\" : [\"r\", \"p\"]\n",
        "         }\n",
        "\n",
        "g = graph(graph_elements)\n",
        "g.addVertex(\"k\")\n",
        "g.addVertex(\"j\")\n",
        "print(g.getVertices())"
      ],
      "metadata": {
        "id": "Q2sjpAK9UTBy",
        "colab": {
          "base_uri": "https://localhost:8080/"
        },
        "outputId": "f9ffbaf5-561f-4785-d654-161ec53d601d"
      },
      "execution_count": 27,
      "outputs": [
        {
          "output_type": "stream",
          "name": "stdout",
          "text": [
            "['r', 'o', 'm', 'n', 'p', 'i', 'k', 'j']\n"
          ]
        }
      ]
    },
    {
      "cell_type": "code",
      "source": [
        "\n",
        "class graph:\n",
        "    def __init__(self,gdict=None):\n",
        "        if gdict is None:\n",
        "            gdict = {}\n",
        "        self.gdict = gdict\n",
        "    def edges (self):\n",
        "        return self.findedges()\n",
        "# Add the new edge\n",
        "    def AddEdge(self, edge):\n",
        "        edge = set(edge)\n",
        "        (vrtx1, vrtx2) = tuple(edge)\n",
        "        if vrtx1 in self.gdict:\n",
        "            self.gdict[vrtx1].append(vrtx2)\n",
        "        else:\n",
        "            self.gdict[vrtx1] = [vrtx2]\n",
        "# List the edge names\n",
        "    def findedges (self):\n",
        "        edgename = []\n",
        "        for vrtx in self.gdict:\n",
        "            for nxtvrtx in self.gdict[vrtx]:\n",
        "                if {nxtvrtx, vrtx} not in edgename:\n",
        "                    edgename.append({vrtx, nxtvrtx})\n",
        "        return edgename\n",
        "\n",
        "# Create the dictionary with graph elements\n",
        "graph_elements = { \"a\" : [\"b\",\"c\"],\n",
        "                \"b\" : [\"a\", \"d\"],\n",
        "                \"c\" : [\"a\", \"d\"],\n",
        "                \"d\" : [\"e\"],\n",
        "                \"e\" : [\"d\"]\n",
        "                }\n",
        "g = graph(graph_elements)\n",
        "g.AddEdge({'b', 'f'})\n",
        "g.AddEdge ({'e', 'f'})\n",
        "print (g.edges())"
      ],
      "metadata": {
        "colab": {
          "base_uri": "https://localhost:8080/"
        },
        "id": "r7rxDkbfWJMf",
        "outputId": "1d24b2ed-46ee-4a4e-fa43-832926c168e1"
      },
      "execution_count": 28,
      "outputs": [
        {
          "output_type": "stream",
          "name": "stdout",
          "text": [
            "[{'b', 'a'}, {'c', 'a'}, {'d', 'b'}, {'d', 'c'}, {'d', 'e'}, {'f', 'b'}, {'f', 'e'}]\n"
          ]
        }
      ]
    },
    {
      "cell_type": "code",
      "source": [
        "class graph:\n",
        "    def __init__(self,gdict=None):\n",
        "        if gdict is None:\n",
        "            gdict = {}\n",
        "        self.gdict = gdict\n",
        "    def edges (self):\n",
        "        return self.findedges()\n",
        "# Add the new edge\n",
        "    def AddEdge(self, edge):\n",
        "        edge = set(edge)\n",
        "        (vrtx1, vrtx2) = tuple(edge)\n",
        "        if vrtx1 in self.gdict:\n",
        "            self.gdict[vrtx1].append(vrtx2)\n",
        "        else:\n",
        "            self.gdict[vrtx1] = [vrtx2]\n",
        "# List the edge names\n",
        "    def findedges (self):\n",
        "        edgename = []\n",
        "        for vrtx in self.gdict:\n",
        "            for nxtvrtx in self.gdict[vrtx]:\n",
        "                if {nxtvrtx, vrtx} not in edgename:\n",
        "                    edgename.append({vrtx, nxtvrtx})\n",
        "        return edgename\n",
        "\n",
        "# Create the dictionary with graph elements\n",
        "graph_elements = {\n",
        "         \"s\" : [\"x\"],\n",
        "         \"T\" : [\"U\", 'W'],\n",
        "         \"U\" : [\"V\", \"x\"],\n",
        "         \"V\" : [\"U\", \"x\"],\n",
        "         \"W\" : [\"x\", \"T\"],\n",
        "         \"x\" : [\"W\", \"s\"],\n",
        "         \"Z\" : [\"x\", \"W\"],\n",
        "         }\n",
        "g = graph(graph_elements)\n",
        "g.AddEdge({'z', 'r'})\n",
        "g.AddEdge ({'s', 'r'})\n",
        "print (g.edges())\n",
        ""
      ],
      "metadata": {
        "colab": {
          "base_uri": "https://localhost:8080/"
        },
        "id": "M0RgvwUSWeL0",
        "outputId": "31778b92-73e6-436c-8c36-b2c4a214e656"
      },
      "execution_count": 29,
      "outputs": [
        {
          "output_type": "stream",
          "name": "stdout",
          "text": [
            "[{'x', 's'}, {'U', 'T'}, {'T', 'W'}, {'U', 'V'}, {'U', 'x'}, {'x', 'V'}, {'W', 'x'}, {'x', 'Z'}, {'W', 'Z'}, {'r', 'z'}, {'r', 's'}]\n"
          ]
        }
      ]
    },
    {
      "cell_type": "code",
      "source": [
        "\n",
        "class graph:\n",
        "    def __init__(self,gdict=None):\n",
        "        if gdict is None:\n",
        "            gdict = {}\n",
        "        self.gdict = gdict\n",
        "    def edges (self):\n",
        "        return self.findedges()\n",
        "# Add the new edge\n",
        "    def AddEdge(self, edge):\n",
        "        edge = set(edge)\n",
        "        (vrtx1, vrtx2) = tuple(edge)\n",
        "        if vrtx1 in self.gdict:\n",
        "            self.gdict[vrtx1].append(vrtx2)\n",
        "        else:\n",
        "            self.gdict[vrtx1] = [vrtx2]\n",
        "# List the edge names\n",
        "    def findedges (self):\n",
        "        edgename = []\n",
        "        for vrtx in self.gdict:\n",
        "            for nxtvrtx in self.gdict[vrtx]:\n",
        "                if {nxtvrtx, vrtx} not in edgename:\n",
        "                    edgename.append({vrtx, nxtvrtx})\n",
        "        return edgename\n",
        "\n",
        "# Create the dictionary with graph elements\n",
        "graph_elements = {\n",
        "         \"r\" : [\"o\", \"l\"],\n",
        "         \"o\" : [\"r\", \"m\", \"p\"],\n",
        "         \"m\" : [\"n\", \"o\"],\n",
        "         \"l\" : [\"p\"],\n",
        "         \"m\" : [\"n\"],\n",
        "         \"n\" : [\"m\", \"p\"],\n",
        "         \"p\" : [\"l\", \"n\", \"o\"]\n",
        "         }\n",
        "g = graph(graph_elements)\n",
        "g.AddEdge({'l', 'k'})\n",
        "g.AddEdge ({'n', 'j'})\n",
        "print (g.edges())"
      ],
      "metadata": {
        "colab": {
          "base_uri": "https://localhost:8080/"
        },
        "id": "ieDl-fXDWghe",
        "outputId": "094f736c-e954-47f2-a354-71eccb626135"
      },
      "execution_count": 30,
      "outputs": [
        {
          "output_type": "stream",
          "name": "stdout",
          "text": [
            "[{'r', 'o'}, {'l', 'r'}, {'m', 'o'}, {'p', 'o'}, {'n', 'm'}, {'p', 'l'}, {'l', 'k'}, {'n', 'p'}, {'n', 'j'}]\n"
          ]
        }
      ]
    }
  ],
  "metadata": {
    "colab": {
      "toc_visible": true,
      "provenance": [],
      "include_colab_link": true
    },
    "kernelspec": {
      "display_name": "Python 3",
      "name": "python3"
    }
  },
  "nbformat": 4,
  "nbformat_minor": 0
}