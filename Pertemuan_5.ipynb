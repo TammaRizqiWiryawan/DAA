{
  "cells": [
    {
      "cell_type": "markdown",
      "metadata": {
        "id": "view-in-github",
        "colab_type": "text"
      },
      "source": [
        "<a href=\"https://colab.research.google.com/github/TammaRizqiWiryawan/DAA/blob/main/Pertemuan_5.ipynb\" target=\"_parent\"><img src=\"https://colab.research.google.com/assets/colab-badge.svg\" alt=\"Open In Colab\"/></a>"
      ]
    },
    {
      "cell_type": "code",
      "execution_count": null,
      "metadata": {
        "id": "ARyAmEf5Uras"
      },
      "outputs": [],
      "source": [
        "def divideAndConquer_Max(arr,ind, len):\n",
        "  maximum = -1;\n",
        "\n",
        "  if(ind >= len -2):\n",
        "    if(arr[ind] > arr[ind + 1]):\n",
        "      return arr[ind];\n",
        "    else:\n",
        "      return arr[ind + 1];\n",
        "\n",
        "  maximum = divideAndConquer_Max(arr, ind + 1, len);\n",
        "\n",
        "  if(arr[ind] > maximum):\n",
        "    return arr[ind];\n",
        "  else:\n",
        "    return maximum;"
      ]
    },
    {
      "cell_type": "code",
      "execution_count": null,
      "metadata": {
        "id": "qsZ4oC-MSYMr"
      },
      "outputs": [],
      "source": [
        "def divideAndConquer_Min(arr, ind,len):\n",
        "  minimun = 0;\n",
        "  if (ind >= len - 2):\n",
        "    if (arr[ind] < arr[ind + 1]):\n",
        "      return arr[ind];\n",
        "    else:\n",
        "        return arr[ind + 1];\n",
        "\n",
        "  minimum = divideAndConquer_Min(arr, ind + 1, len);\n",
        "\n",
        "  if (arr[ind] < minimum):\n",
        "    return arr[ind];\n",
        "  else:\n",
        "      return minimum;"
      ]
    },
    {
      "cell_type": "code",
      "execution_count": null,
      "metadata": {
        "colab": {
          "base_uri": "https://localhost:8080/"
        },
        "id": "ukkYBVBsS35A",
        "outputId": "866187eb-b95d-4c62-97a3-4af0d22990d1"
      },
      "outputs": [
        {
          "output_type": "stream",
          "name": "stdout",
          "text": [
            "The minimum number in the array is  1\n",
            "The maximum number in the array is  35\n"
          ]
        }
      ],
      "source": [
        "def divideAndConquer_Max(arr,ind, len):\n",
        "  maximum = -1;\n",
        "\n",
        "  if(ind >= len -2):\n",
        "    if(arr[ind] > arr[ind + 1]):\n",
        "      return arr[ind];\n",
        "    else:\n",
        "      return arr[ind + 1];\n",
        "\n",
        "  maximum = divideAndConquer_Max(arr, ind + 1, len);\n",
        "\n",
        "  if(arr[ind] > maximum):\n",
        "    return arr[ind];\n",
        "  else:\n",
        "    return maximum;\n",
        "\n",
        "def divideAndConquer_Min(arr,ind, len):\n",
        "  minimum = 0;\n",
        "\n",
        "  if(ind >= len -2):\n",
        "    if(arr[ind] < arr[ind + 1]):\n",
        "      return arr[ind];\n",
        "    else:\n",
        "      return arr[ind + 1];\n",
        "\n",
        "  minimum = divideAndConquer_Min(arr, ind + 1, len);\n",
        "\n",
        "  if(arr[ind] < minimum):\n",
        "    return arr[ind];\n",
        "  else:\n",
        "    return minimum;\n",
        "\n",
        "if __name__ == '__main__':\n",
        "\n",
        "  minimum, maximum = 0, -1;\n",
        "\n",
        "  #array initialization\n",
        "  arr = [4,12,23,9,21,1,35,2,24]\n",
        "\n",
        "  maximum = divideAndConquer_Max(arr,0,9);\n",
        "  minimum = divideAndConquer_Min(arr,0,9);\n",
        "\n",
        "  print(\"The minimum number in the array is \", minimum);\n",
        "  print(\"The maximum number in the array is \", maximum);"
      ]
    },
    {
      "cell_type": "code",
      "source": [
        "#MergeSort in python\n",
        "def mergeSort(array):\n",
        "    if len(array) > 1:\n",
        "\n",
        "      # r is the point where the array is divided into two subarrays\n",
        "      r = len(array)//2\n",
        "      L = array[:r]\n",
        "      M = array[r:]\n",
        "\n",
        "      #sort the two halves\n",
        "      mergeSort(L)\n",
        "      mergeSort(M)\n",
        "\n",
        "      i = j = k = 0\n",
        "      #until we reach either end of either L or M, pick larger among\n",
        "      #elements L and M and Place them in the correct posisition at A[p..r]\n",
        "      while i < len(L) and j < len(M):\n",
        "          if L[i] < M[j]:\n",
        "              array[k] = L[i]\n",
        "              i += 1\n",
        "          else:\n",
        "              array[k] = M[j]\n",
        "              j += 1\n",
        "          k += 1\n",
        "\n",
        "          #when we run out of elements in either L or M,\n",
        "          #pick up the remaining elemenets and put in [p..r]\n",
        "      while i < len(L):\n",
        "            array[k] = L[i]\n",
        "            i += 1\n",
        "            k += 1\n",
        "\n",
        "      while j < len(M):\n",
        "            array[k] = M[j]\n",
        "            j += 1\n",
        "            k += 1\n",
        "\n",
        "#print the array\n",
        "def printList(array):\n",
        "  for i in range(len(array)):\n",
        "      print(array[i], end= \" \")\n",
        "  print()\n",
        "\n",
        "  #Driver program\n",
        "if __name__ == '__main__':\n",
        "    array = [4,12,23,9,21,1,35,2,24]\n",
        "\n",
        "    mergeSort(array)\n",
        "\n",
        "    print(\"Sorted array is: \")\n",
        "    printList(array)"
      ],
      "metadata": {
        "colab": {
          "base_uri": "https://localhost:8080/"
        },
        "id": "dXh8OFH7eQAK",
        "outputId": "bfe05174-f5b7-4877-ab39-86b58bebd295"
      },
      "execution_count": null,
      "outputs": [
        {
          "output_type": "stream",
          "name": "stdout",
          "text": [
            "Sorted array is: \n",
            "1 2 4 9 12 21 23 24 35 \n"
          ]
        }
      ]
    },
    {
      "cell_type": "code",
      "source": [
        "#function to find the partition posisition\n",
        "def partition(array, low, high):\n",
        "\n",
        "  #choose the rightmost element as pivot\n",
        "  pivot = array[high]\n",
        "\n",
        "  #pointer for greater element\n",
        "  i = low - 1\n",
        "\n",
        "  #traverse through all elements\n",
        "  #compare each element with pivot\n",
        "  for j in range(low, high):\n",
        "      if array[j] <= pivot:\n",
        "\n",
        "        #if element smaller than pivot is found\n",
        "        #swap it with the greater element pointed by 1\n",
        "        i = i + 1\n",
        "\n",
        "        #swapping element at i with element as j\n",
        "        (array[i], array[j]) = (array[j], array[i])\n",
        "\n",
        "  #swap the pivot element with the greater element specified by i\n",
        "  (array[i + 1], array[high]) = (array[high], array[i + 1])\n",
        "\n",
        "  #return the posisition from where partition is done\n",
        "  return i + 1\n",
        "\n",
        "#function to perform quicksort\n",
        "def quicksort(array, low, high):\n",
        "    if low < high:\n",
        "\n",
        "      #find pivot element such that\n",
        "      #element smaller than pivot are on the left\n",
        "      #element greater than pivot are on the right\n",
        "      pi = partition(array, low, high)\n",
        "\n",
        "      #recursive call on the left of pivot\n",
        "      quicksort(array, low, pi - 1)\n",
        "\n",
        "      #recursive call on the right of pivot\n",
        "      quicksort(array, pi + 1, high)\n",
        "\n",
        "data = [4,12,23,9,21,1,35,2,24]\n",
        "print(\"unsorted array\")\n",
        "print(data)\n",
        "\n",
        "size = len(data)\n",
        "\n",
        "quicksort(data, 0, size - 1)\n",
        "print('sorted array in ascending order:')\n",
        "print(data)"
      ],
      "metadata": {
        "colab": {
          "base_uri": "https://localhost:8080/"
        },
        "id": "29Hqcbf9ej8j",
        "outputId": "6012cf32-6e3f-4df1-ca57-dd5c4efaa0fd"
      },
      "execution_count": null,
      "outputs": [
        {
          "output_type": "stream",
          "name": "stdout",
          "text": [
            "unsorted array\n",
            "[4, 12, 23, 9, 21, 1, 35, 2, 24]\n",
            "sorted array in ascending order:\n",
            "[1, 2, 4, 9, 12, 21, 23, 24, 35]\n"
          ]
        }
      ]
    },
    {
      "cell_type": "code",
      "source": [
        "#Hitung inversi\n",
        "\n",
        "def countinversion(arr):\n",
        "  result=0\n",
        "  for i in range(len(arr)):\n",
        "     for j in range(i+1, len(arr)):\n",
        "        if arr[i]>arr[j]:\n",
        "            result+=1\n",
        "  return result\n",
        "\n",
        "arr=[21, 70, 36, 14, 25]\n",
        "result=countinversion(arr)\n",
        "print(result)"
      ],
      "metadata": {
        "colab": {
          "base_uri": "https://localhost:8080/"
        },
        "id": "CapBOl3Qlp3t",
        "outputId": "328d517b-4089-4ffe-f7b9-6c89939dd8df"
      },
      "execution_count": null,
      "outputs": [
        {
          "output_type": "stream",
          "name": "stdout",
          "text": [
            "6\n"
          ]
        }
      ]
    },
    {
      "cell_type": "code",
      "source": [
        "#hitung inversi dengan divide dan conquer\n",
        "\n",
        "def countinversion(arr):\n",
        "    icount=0\n",
        "    if len(arr)<=1:\n",
        "       return icount\n",
        "\n",
        "    mid=len(arr)//2\n",
        "    left=arr[:mid]\n",
        "    right=arr[mid:]\n",
        "    icount+=countinversion(left)\n",
        "    icount+=countinversion(right)\n",
        "    i=j=k=0\n",
        "\n",
        "    #print(left)\n",
        "    #print(right)\n",
        "    while i<len(left) and j<len(right):\n",
        "        if left[i]<right[j]:\n",
        "            arr[k]=left[i]\n",
        "            i+=1\n",
        "        else:\n",
        "            #print(left[i],right[j])\n",
        "            arr[k]=right[j]\n",
        "            j+=1\n",
        "            icount+=(mid-i)\n",
        "        k+=1\n",
        "\n",
        "    while i<len(left):\n",
        "        arr[k]=left[i]\n",
        "        i+=1\n",
        "        k+=1\n",
        "    while j<len(right):\n",
        "        arr[k]=right[j]\n",
        "        j+=1\n",
        "        k+=1\n",
        "\n",
        "    return icount\n",
        "\n",
        "arr=[1, 20, 6, 4, 5]\n",
        "result = countinversion(arr)\n",
        "print(result)"
      ],
      "metadata": {
        "colab": {
          "base_uri": "https://localhost:8080/"
        },
        "id": "UeMHa_ElnnKM",
        "outputId": "41fe5e5f-7cc8-4952-ab78-1b23965d08a0"
      },
      "execution_count": 1,
      "outputs": [
        {
          "output_type": "stream",
          "name": "stdout",
          "text": [
            "5\n"
          ]
        }
      ]
    },
    {
      "cell_type": "code",
      "source": [
        "# menggunakan divide and conquer\n",
        "arr=[-2,-5,6,-2,-3,1,5,-6]\n",
        "def maxCrossingSum(arr,low,mid,high):\n",
        "    result=0; leftSum=float('-infinity')\n",
        "    for i in range(mid, low-1, -1):\n",
        "        result+=arr[i]\n",
        "        if result>leftSum:\n",
        "            leftSum=result\n",
        "    result=0;rightSum=float('-infinity')\n",
        "    for i in range(mid+1, high+1):\n",
        "        result+=arr[i]\n",
        "        if result>rightSum:\n",
        "            rightSum=result\n",
        "    return leftSum+rightSum\n",
        "\n",
        "def maxSum(arr, low, high):\n",
        "    if low == high :\n",
        "        return arr[low]\n",
        "    mid=(low+high)//2\n",
        "    return max(maxSum(arr,low,mid), maxSum(arr,mid+1,high), maxCrossingSum(arr,low,mid,high))\n",
        "result=maxSum(arr,0,len(arr)-1)\n",
        "print(result)"
      ],
      "metadata": {
        "colab": {
          "base_uri": "https://localhost:8080/"
        },
        "id": "ixgPJYYtp6MY",
        "outputId": "a71dc248-e9b1-42d0-b4b0-a77e46640a23"
      },
      "execution_count": null,
      "outputs": [
        {
          "output_type": "stream",
          "name": "stdout",
          "text": [
            "7\n"
          ]
        }
      ]
    },
    {
      "cell_type": "code",
      "source": [
        "# tanpa divide dan conquer\n",
        "\n",
        "arr =[-2, -5, 6, -2, -3, 1, 5, -6]\n",
        "def maxSubSum(arr):\n",
        "    max_so_far=0\n",
        "    max_ending_here=0\n",
        "    for i in range(len(arr)):\n",
        "        max_ending_here+=arr[i]\n",
        "        if max_ending_here>max_so_far:\n",
        "            max_so_far=max_ending_here\n",
        "        if max_ending_here<0:\n",
        "            max_ending_here=0\n",
        "    return max_so_far\n",
        "result=maxSubSum(arr)\n",
        "print(result)\n"
      ],
      "metadata": {
        "id": "AiTIE_I0x7WQ",
        "colab": {
          "base_uri": "https://localhost:8080/"
        },
        "outputId": "f387b5c5-21af-4126-d1fb-2a42e1ad2936"
      },
      "execution_count": null,
      "outputs": [
        {
          "output_type": "stream",
          "name": "stdout",
          "text": [
            "7\n"
          ]
        }
      ]
    },
    {
      "cell_type": "code",
      "source": [
        "def longestCommonPrefix( a):\n",
        "\n",
        "    size = len(a)\n",
        "\n",
        "    # if size is 0, return empty string\n",
        "    if (size == 0):\n",
        "        return \"\"\n",
        "    if (size == 1):\n",
        "        return a [0]\n",
        "\n",
        "    # sort the array of string\n",
        "    a.sort()\n",
        "\n",
        "    # find the minimum length from\n",
        "    # first and last string\n",
        "    end = min(len(a[0]), len(a[size -1]))\n",
        "\n",
        "    # find the common prefix between\n",
        "    # the first and last string\n",
        "    i = 0\n",
        "    while (i < end and\n",
        "           a[0][i]==a[size -1][i]):\n",
        "        i += 1\n",
        "\n",
        "    pre = a[0][0: i]\n",
        "    return pre\n",
        "arr=[\"geeksforgeeks\", \"geeks\", \"geek\", \"geezer\"]\n",
        "result=longestCommonPrefix(arr)\n",
        "print(result)\n",
        "\n",
        "arr=[\"apple\", \"ape\", \"april\"]\n",
        "result=longestCommonPrefix(arr)\n",
        "print(result)"
      ],
      "metadata": {
        "id": "zwH933hn4F1T",
        "colab": {
          "base_uri": "https://localhost:8080/"
        },
        "outputId": "4acc15cf-95d5-42fd-df66-2f4be3b75e50"
      },
      "execution_count": null,
      "outputs": [
        {
          "output_type": "stream",
          "name": "stdout",
          "text": [
            "gee\n",
            "ap\n"
          ]
        }
      ]
    },
    {
      "cell_type": "code",
      "source": [
        "# median dari dua array dengan divide dan conquer\n",
        "arr1=[1,12,15,26,38]\n",
        "arr2=[2,13,17,30,45]\n",
        "def medianOfArray(arr1, arr2, n):\n",
        "    m1=-1 #first number\n",
        "    m2=-2 #second number\n",
        "    count=0\n",
        "    i=j=0\n",
        "    while count<n+1:\n",
        "        count+=1\n",
        "        if i==n: # i==5 index error if arr1[i]<arr2[j] is checked\n",
        "            m1=m2\n",
        "            m2=arr2[0]\n",
        "            break\n",
        "        if j==n:\n",
        "            m1=m2\n",
        "            m2=arr1[0]\n",
        "            break\n",
        "        if arr1[i]<arr2[j]:\n",
        "            m1=m2\n",
        "            m2=arr1[i]\n",
        "            i+=1\n",
        "        else:\n",
        "            m1=m2\n",
        "            m2=arr2[j]\n",
        "            j+=1\n",
        "\n",
        "    return (m1+m2)//2\n",
        "print(medianOfArray(arr1, arr2, len(arr1)))\n"
      ],
      "metadata": {
        "colab": {
          "base_uri": "https://localhost:8080/"
        },
        "id": "qNpJDayYnQbC",
        "outputId": "6f1985b9-d32c-4672-c1d7-be265c220eb2"
      },
      "execution_count": null,
      "outputs": [
        {
          "output_type": "stream",
          "name": "stdout",
          "text": [
            "16\n"
          ]
        }
      ]
    },
    {
      "cell_type": "code",
      "source": [
        "arr1 = [-5, 3, 6, 12, 15]\n",
        "arr2 = [-12, -10, -6, -3, 4, 10]\n",
        "def Solution(arr):\n",
        "    n = len(arr)\n",
        "    # if length of array is even\n",
        "    if n % 2 == 0:\n",
        "        z = n // 2\n",
        "        e = arr[z]\n",
        "        q = arr [z - 1]\n",
        "        ans = (e + q) / 2\n",
        "        return ans\n",
        "    # if length of array is odd\n",
        "    else:\n",
        "        z = n // 2\n",
        "        ans = arr[z]\n",
        "        return ans\n",
        "\n",
        "# concatenating the two array\n",
        "arr3 = arr1 + arr2\n",
        "# sorting the resultant array\n",
        "arr3.sort()\n",
        "print(\"median = \", Solution(arr3))"
      ],
      "metadata": {
        "colab": {
          "base_uri": "https://localhost:8080/"
        },
        "id": "1z8gMbnko6HD",
        "outputId": "20c63a00-6917-4c86-8c01-0ee5d7694e7e"
      },
      "execution_count": null,
      "outputs": [
        {
          "output_type": "stream",
          "name": "stdout",
          "text": [
            "median =  3\n"
          ]
        }
      ]
    },
    {
      "cell_type": "code",
      "source": [
        "# floor in sorted array\n",
        "arr=[1,2,8,10,12,14,19]\n",
        "x = 5\n",
        "def floorSorted(arr, low, high, x):\n",
        "    # print(low, high)\n",
        "    if low>high:\n",
        "        return -1\n",
        "    if arr[low]>x:\n",
        "        # print(\"inside\")\n",
        "        return -1\n",
        "    if arr[high]<=x:\n",
        "        return arr[high]\n",
        "    mid=(low+high)//2\n",
        "\n",
        "    if arr[mid]==x:\n",
        "        return arr[mid]\n",
        "    if mid>0 and x>=arr[mid+1] and x>=arr[mid]:\n",
        "        return arr[mid-1]\n",
        "    if mid<high and x<arr [mid+1] and x>=arr[mid]:\n",
        "        return arr[mid]\n",
        "    if x>arr[mid]:\n",
        "        return floorSorted(arr, mid+1, high,x)\n",
        "    else:\n",
        "        return floorSorted(arr, low, mid-1, x)\n",
        "print(floorSorted(arr,0,len(arr)-1,x))"
      ],
      "metadata": {
        "id": "R90gYFw4ptYg",
        "colab": {
          "base_uri": "https://localhost:8080/"
        },
        "outputId": "952df83d-8474-4287-f647-df6ab3d50ede"
      },
      "execution_count": 5,
      "outputs": [
        {
          "output_type": "stream",
          "name": "stdout",
          "text": [
            "2\n"
          ]
        }
      ]
    },
    {
      "cell_type": "code",
      "source": [
        "# mencari nilai terdekat dengan metode divide dan conquer\n",
        "arr=[2, 5, 6, 7, 8, 9]\n",
        "x = 9\n",
        "def closestNumber(arr,low,high,x):\n",
        "    if low>high:\n",
        "        return -1\n",
        "    if arr[high]<=x:\n",
        "        return arr[high]\n",
        "    if arr[low]>=x:\n",
        "        return arr[mid]\n",
        "    abs_mid=abs(arr[mid-1]-x)\n",
        "    if mid>0:\n",
        "        abs_left=abs(arr[mid-1]-x)\n",
        "        if abs_left<abs_mid:\n",
        "            return closestNumber(arr,low,mid-1,x)\n",
        "        if mid<high:\n",
        "            abs_right=abs(arr[mid+1], high,x)\n",
        "            if abs_right<abs_mid:\n",
        "                return closestNumber(arr, mid+1, high,x)\n",
        "#print ('after')\n",
        "        return arr[mid]\n",
        "print(closestNumber(arr,0,len(arr)-1,x))"
      ],
      "metadata": {
        "colab": {
          "base_uri": "https://localhost:8080/"
        },
        "id": "TUgwuG70pxPo",
        "outputId": "d5529f9a-f022-4cb2-ec6e-6087ea251c73"
      },
      "execution_count": 4,
      "outputs": [
        {
          "output_type": "stream",
          "name": "stdout",
          "text": [
            "9\n"
          ]
        }
      ]
    },
    {
      "cell_type": "code",
      "source": [
        "def find_closest(lst, k):\n",
        "    lst.sort()\n",
        "    closest_num = lst[0]\n",
        "    for num in lst:\n",
        "        if abs(num - k) < abs(closest_num - k):\n",
        "            closest_num = num\n",
        "        if num > k:\n",
        "            break\n",
        "    return closest_num\n",
        "\n",
        "lst = [3.64, 5.2, 9.42, 9.35, 8.5, 8]\n",
        "k = 9.1\n",
        "print(find_closest(lst, k))\n",
        "lst = [2, 5, 5, 7, 8, 8, 9]\n",
        "k = 6\n",
        "print(find_closest(lst, k))"
      ],
      "metadata": {
        "id": "G37sKsoBpx_w",
        "colab": {
          "base_uri": "https://localhost:8080/"
        },
        "outputId": "6576bd13-6162-4d08-eaca-8937573d149f"
      },
      "execution_count": 3,
      "outputs": [
        {
          "output_type": "stream",
          "name": "stdout",
          "text": [
            "9.35\n",
            "5\n"
          ]
        }
      ]
    },
    {
      "cell_type": "code",
      "source": [
        "#mencari fixed point dengan metode divide dan conquer\n",
        "\n",
        "def fixedpoint(arr,low,high):\n",
        "    if low>high:\n",
        "        return -1\n",
        "    if arr[high]==high:\n",
        "        return arr[high]\n",
        "    if arr[low]==low:\n",
        "        return arr[low]\n",
        "    mid=(low+high)//2\n",
        "    if arr[mid]==mid:\n",
        "        return arr[mid]\n",
        "    if mid>arr[mid]:\n",
        "        return fixedpoint(arr,mid+1,high)\n",
        "    else:\n",
        "        return fixedpoint(arr,low,mid-1)\n",
        "arr=[9,1,4,5,2]\n",
        "print(fixedpoint(arr,0,len(arr)-1))"
      ],
      "metadata": {
        "id": "_xiFrzbn1nVl",
        "colab": {
          "base_uri": "https://localhost:8080/"
        },
        "outputId": "71c5b5a5-f5b4-4f18-a95c-d40f8a9c1cba"
      },
      "execution_count": 7,
      "outputs": [
        {
          "output_type": "stream",
          "name": "stdout",
          "text": [
            "1\n"
          ]
        }
      ]
    }
  ],
  "metadata": {
    "colab": {
      "provenance": [],
      "authorship_tag": "ABX9TyPbOAUMOQ2aUcGfLXzdhPvM",
      "include_colab_link": true
    },
    "kernelspec": {
      "display_name": "Python 3",
      "name": "python3"
    },
    "language_info": {
      "name": "python"
    }
  },
  "nbformat": 4,
  "nbformat_minor": 0
}