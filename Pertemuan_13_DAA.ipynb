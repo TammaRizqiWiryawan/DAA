{
  "nbformat": 4,
  "nbformat_minor": 0,
  "metadata": {
    "colab": {
      "provenance": [],
      "authorship_tag": "ABX9TyPzi7D2G6px4+xJ2d16J9Ef",
      "include_colab_link": true
    },
    "kernelspec": {
      "name": "python3",
      "display_name": "Python 3"
    },
    "language_info": {
      "name": "python"
    }
  },
  "cells": [
    {
      "cell_type": "markdown",
      "metadata": {
        "id": "view-in-github",
        "colab_type": "text"
      },
      "source": [
        "<a href=\"https://colab.research.google.com/github/TammaRizqiWiryawan/DAA/blob/main/Pertemuan_13_DAA.ipynb\" target=\"_parent\"><img src=\"https://colab.research.google.com/assets/colab-badge.svg\" alt=\"Open In Colab\"/></a>"
      ]
    },
    {
      "cell_type": "code",
      "execution_count": 85,
      "metadata": {
        "id": "PZv6ceqoJmiv"
      },
      "outputs": [],
      "source": [
        "def bfs(graph, start):\n",
        "  visited=[]\n",
        "  queue = []\n",
        "  queue = [start]\n",
        "  while queue:\n",
        "    node = queue.pop (0)\n",
        "    if node not in visited:\n",
        "      visited.append(node)\n",
        "      neighbours = graph [node]\n",
        "      for neighbour in neighbours:\n",
        "        queue.append(neighbour)\n",
        "  return visited"
      ]
    },
    {
      "cell_type": "code",
      "source": [
        "\n",
        "graph = {'Amin': ['Wasim','Nick', 'Mike'],\n",
        "         'Wasim': ['Imran', 'Amin'],\n",
        "         'Imran': ['Wasim', 'Faras'],\n",
        "         'Faras': ['Imran'],\n",
        "         'Mike' : ['Amin'],\n",
        "         'Nick': ['Amin']\n",
        "         }"
      ],
      "metadata": {
        "id": "KDkQU8snJrEM"
      },
      "execution_count": 86,
      "outputs": []
    },
    {
      "cell_type": "code",
      "source": [
        "# O Amin -----------------\n",
        "# |          |          |\n",
        "# O Wasim    O Nick     O Mike\n",
        "# |\n",
        "# O Imran\n",
        "# |\n",
        "# O Faras\n",
        "\n",
        "bfs(graph, 'Amin')"
      ],
      "metadata": {
        "colab": {
          "base_uri": "https://localhost:8080/"
        },
        "id": "i2i9pNrhJuJU",
        "outputId": "b749407c-6776-440e-a960-de92a787880f"
      },
      "execution_count": 87,
      "outputs": [
        {
          "output_type": "execute_result",
          "data": {
            "text/plain": [
              "['Amin', 'Wasim', 'Nick', 'Mike', 'Imran', 'Faras']"
            ]
          },
          "metadata": {},
          "execution_count": 87
        }
      ]
    },
    {
      "cell_type": "code",
      "source": [
        "# O Amin -----------------\n",
        "# |          |          |\n",
        "# O Wasim    O Nick     O Mike\n",
        "# |\n",
        "# O Imran\n",
        "# |\n",
        "# O Faras\n",
        "\n",
        "bfs(graph, 'Wasim')"
      ],
      "metadata": {
        "colab": {
          "base_uri": "https://localhost:8080/"
        },
        "id": "t-XzoNsvJwp9",
        "outputId": "c4aa37f7-3f22-45ae-ed79-21915aa65937"
      },
      "execution_count": 88,
      "outputs": [
        {
          "output_type": "execute_result",
          "data": {
            "text/plain": [
              "['Wasim', 'Imran', 'Amin', 'Faras', 'Nick', 'Mike']"
            ]
          },
          "metadata": {},
          "execution_count": 88
        }
      ]
    },
    {
      "cell_type": "code",
      "source": [
        "# O Amin -----------------\n",
        "# |          |          |\n",
        "# O Wasim    O Nike     O Mike\n",
        "# |\n",
        "# O Imran\n",
        "# |\n",
        "# O Faras\n",
        "\n",
        "bfs(graph, 'Faras')"
      ],
      "metadata": {
        "colab": {
          "base_uri": "https://localhost:8080/"
        },
        "id": "e0PZoPC9JzEr",
        "outputId": "e49d3716-dc1b-48ad-d531-c56699c7a96d"
      },
      "execution_count": 89,
      "outputs": [
        {
          "output_type": "execute_result",
          "data": {
            "text/plain": [
              "['Faras', 'Imran', 'Wasim', 'Amin', 'Nick', 'Mike']"
            ]
          },
          "metadata": {},
          "execution_count": 89
        }
      ]
    },
    {
      "cell_type": "code",
      "source": [
        "# O Amin -----------------\n",
        "# |          |          |\n",
        "# O Wasim    O Nick     O Mike\n",
        "# |\n",
        "# O Imran\n",
        "# |\n",
        "# O Faras\n",
        "\n",
        "bfs(graph, 'Mike')"
      ],
      "metadata": {
        "colab": {
          "base_uri": "https://localhost:8080/"
        },
        "id": "ZrjTiA5evKWq",
        "outputId": "8e91330a-c440-44d9-a7cf-55f67bfda379"
      },
      "execution_count": 90,
      "outputs": [
        {
          "output_type": "execute_result",
          "data": {
            "text/plain": [
              "['Mike', 'Amin', 'Wasim', 'Nick', 'Imran', 'Faras']"
            ]
          },
          "metadata": {},
          "execution_count": 90
        }
      ]
    },
    {
      "cell_type": "code",
      "source": [
        "# O Amin -----------------\n",
        "# |          |          |\n",
        "# O Wasim    O Nick     O Mike\n",
        "# |\n",
        "# O Imran\n",
        "# |\n",
        "# O Faras\n",
        "\n",
        "bfs(graph, 'Nick')"
      ],
      "metadata": {
        "colab": {
          "base_uri": "https://localhost:8080/"
        },
        "id": "OiWeuKMdw4gv",
        "outputId": "9e153d08-ddc3-4968-811a-2bf1815ba76c"
      },
      "execution_count": 91,
      "outputs": [
        {
          "output_type": "execute_result",
          "data": {
            "text/plain": [
              "['Nick', 'Amin', 'Wasim', 'Mike', 'Imran', 'Faras']"
            ]
          },
          "metadata": {},
          "execution_count": 91
        }
      ]
    },
    {
      "cell_type": "code",
      "source": [
        "#BFS\n",
        "graph = { 'rektor' :['warek 1', 'warek 2'],\n",
        "          'warek 1': ['rektor'],\n",
        "          'warek 2' : ['rektor', 'kaprodi 1', 'kaprodi 2', 'kaprodi 3'],\n",
        "          'kaprodi 1' : ['dosen A', 'dosen B', 'dosen C','warek 2'],\n",
        "          'kaprodi 2' : ['dosen D', 'dosen E','warek 2'],\n",
        "          'kaprodi 3' : ['dosen F', 'dosen G','warek 2'],\n",
        "          'dosen G' : ['kaprodi 3'],\n",
        "          'dosen F' : ['kaprodi 3'],\n",
        "          'dosen D' : ['kaprodi 2'],\n",
        "          'dosen E' : ['kaprodi 2'],\n",
        "          'dosen C' : ['kaprodi 1'],\n",
        "          'dosen B' : ['kaprodi 1'],\n",
        "          'dosen A' : ['kaprodi 1']\n",
        "          }"
      ],
      "metadata": {
        "id": "d6bfigXwJ3ux"
      },
      "execution_count": 92,
      "outputs": []
    },
    {
      "cell_type": "code",
      "source": [
        "bfs(graph, 'rektor')"
      ],
      "metadata": {
        "colab": {
          "base_uri": "https://localhost:8080/"
        },
        "id": "6VGUmM0X68P7",
        "outputId": "17d0d73a-5e94-4b7b-eb15-ff6333705b67"
      },
      "execution_count": 93,
      "outputs": [
        {
          "output_type": "execute_result",
          "data": {
            "text/plain": [
              "['rektor',\n",
              " 'warek 1',\n",
              " 'warek 2',\n",
              " 'kaprodi 1',\n",
              " 'kaprodi 2',\n",
              " 'kaprodi 3',\n",
              " 'dosen A',\n",
              " 'dosen B',\n",
              " 'dosen C',\n",
              " 'dosen D',\n",
              " 'dosen E',\n",
              " 'dosen F',\n",
              " 'dosen G']"
            ]
          },
          "metadata": {},
          "execution_count": 93
        }
      ]
    },
    {
      "cell_type": "code",
      "source": [
        "bfs(graph, 'dosen C')"
      ],
      "metadata": {
        "colab": {
          "base_uri": "https://localhost:8080/"
        },
        "id": "imup74JP6KI3",
        "outputId": "678b208c-5358-4616-c54a-1d245a09451d"
      },
      "execution_count": 94,
      "outputs": [
        {
          "output_type": "execute_result",
          "data": {
            "text/plain": [
              "['dosen C',\n",
              " 'kaprodi 1',\n",
              " 'dosen A',\n",
              " 'dosen B',\n",
              " 'warek 2',\n",
              " 'rektor',\n",
              " 'kaprodi 2',\n",
              " 'kaprodi 3',\n",
              " 'warek 1',\n",
              " 'dosen D',\n",
              " 'dosen E',\n",
              " 'dosen F',\n",
              " 'dosen G']"
            ]
          },
          "metadata": {},
          "execution_count": 94
        }
      ]
    },
    {
      "cell_type": "code",
      "source": [
        "def dfs(graph, start, visited=None):\n",
        "    if visited is None:\n",
        "        visited = set()\n",
        "    visited.add(start)\n",
        "    print(start)\n",
        "    for neighbor in graph[start]:\n",
        "        if neighbor not in visited:\n",
        "            dfs(graph, neighbor, visited)\n",
        "\n",
        "#Finding the Shorted Path on unweight graph\n",
        "graph = { 0: [9, 7, 11],\n",
        "          1: [10, 8],\n",
        "          2: [12, 3],\n",
        "          3: [2, 4, 7],\n",
        "          4: [3],\n",
        "          5: [6],\n",
        "          6: [5, 7],\n",
        "          7: [0, 11, 6, 3],\n",
        "          8: [1, 9, 12],\n",
        "          9: [0, 8, 10],\n",
        "          10: [1, 9],\n",
        "          11: [0, 7],\n",
        "          12: [8, 2]\n",
        "          }\n",
        "bfs(graph, 3)"
      ],
      "metadata": {
        "colab": {
          "base_uri": "https://localhost:8080/"
        },
        "id": "KxECbBQI19EC",
        "outputId": "c4632247-92f0-4025-dfd2-c130e1926b9a"
      },
      "execution_count": 95,
      "outputs": [
        {
          "output_type": "execute_result",
          "data": {
            "text/plain": [
              "[3, 2, 4, 7, 12, 0, 11, 6, 8, 9, 5, 1, 10]"
            ]
          },
          "metadata": {},
          "execution_count": 95
        }
      ]
    },
    {
      "cell_type": "markdown",
      "source": [
        "DFS"
      ],
      "metadata": {
        "id": "6HVL_n9bJ5xb"
      }
    },
    {
      "cell_type": "code",
      "source": [
        "def dfs(visited, graph, node):\n",
        "    if node not in visited:\n",
        "        print(node)\n",
        "        visited.add(node)\n",
        "        for neighbour in graph[node]:\n",
        "            dfs(visited, graph, neighbour)\n",
        "\n",
        "\n",
        "graph = {'Amin': ['Wasim','Nick', 'Mike'],\n",
        "         'Wasim': ['Imran', 'Amin'],\n",
        "         'Imran': ['Wasim', 'Faras'],\n",
        "         'Faras': ['Imran'],\n",
        "         'Mike' : ['Amin'],\n",
        "         'Nick': ['Amin']\n",
        "         }\n"
      ],
      "metadata": {
        "id": "mCRQHrb3KByL"
      },
      "execution_count": 96,
      "outputs": []
    },
    {
      "cell_type": "code",
      "source": [
        "def dfs(visited, graph, node):\n",
        "    if node not in visited:\n",
        "        print(node)\n",
        "        visited.add(node)\n",
        "        for neighbour in graph[node]:\n",
        "            dfs(visited, graph, neighbour)\n",
        "\n",
        "# Definisi graph\n",
        "graph = {\n",
        "    'Amin': ['Wasim', 'Nick', 'Mike'],\n",
        "    'Wasim': ['Imran', 'Amin'],\n",
        "    'Imran': ['Wasim', 'Faras'],\n",
        "    'Faras': ['Imran'],\n",
        "    'Nick': [],\n",
        "    'Mike': []\n",
        "}\n",
        "\n",
        "# Set visited awal\n",
        "visited = set()\n",
        "\n",
        "# Panggil fungsi DFS\n",
        "dfs(visited, graph, 'Amin')"
      ],
      "metadata": {
        "colab": {
          "base_uri": "https://localhost:8080/"
        },
        "id": "8ARR3Os9KnEh",
        "outputId": "394fe396-0aa8-44c2-8363-d0a49dd251c5"
      },
      "execution_count": 97,
      "outputs": [
        {
          "output_type": "stream",
          "name": "stdout",
          "text": [
            "Amin\n",
            "Wasim\n",
            "Imran\n",
            "Faras\n",
            "Nick\n",
            "Mike\n"
          ]
        }
      ]
    },
    {
      "cell_type": "code",
      "source": [
        "def dfs(visited, graph, node):\n",
        "    if node not in visited:\n",
        "        print(node)\n",
        "        visited.add(node)\n",
        "        for neighbour in graph[node]:\n",
        "            dfs(visited, graph, neighbour)\n",
        "\n",
        "# Definisi graph\n",
        "graph = {\n",
        "    'Amin': ['Wasim', 'Nick', 'Mike'],\n",
        "    'Wasim': ['Imran', 'Amin'],\n",
        "    'Imran': ['Wasim', 'Faras'],\n",
        "    'Faras': ['Imran'],\n",
        "    'Nick': ['Amin'],\n",
        "    'Mike': ['Amin']\n",
        "}\n",
        "\n",
        "# Set visited awal\n",
        "visited = set()\n",
        "\n",
        "# Panggil fungsi DFS\n",
        "dfs(visited, graph, 'Wasim')"
      ],
      "metadata": {
        "colab": {
          "base_uri": "https://localhost:8080/"
        },
        "id": "35M9laQrKpBq",
        "outputId": "41bc1d26-a9d8-4d12-f644-6074af427c04"
      },
      "execution_count": 98,
      "outputs": [
        {
          "output_type": "stream",
          "name": "stdout",
          "text": [
            "Wasim\n",
            "Imran\n",
            "Faras\n",
            "Amin\n",
            "Nick\n",
            "Mike\n"
          ]
        }
      ]
    },
    {
      "cell_type": "code",
      "source": [
        "def dfs(visited, graph, node):\n",
        "    if node not in visited:\n",
        "        print(node)\n",
        "        visited.add(node)\n",
        "        for neighbour in graph[node]:\n",
        "            dfs(visited, graph, neighbour)\n",
        "\n",
        "# Definisi graph\n",
        "graph = {\n",
        "    'Amin': ['Wasim', 'Nick', 'Mike'],\n",
        "    'Wasim': ['Imran', 'Amin'],\n",
        "    'Imran': ['Wasim', 'Faras'],\n",
        "    'Faras': ['Imran'],\n",
        "    'Nick': ['Amin'],\n",
        "    'Mike': ['Amin']\n",
        "}\n",
        "\n",
        "# Set visited awal\n",
        "visited = set()\n",
        "\n",
        "# Panggil fungsi DFS\n",
        "dfs(visited, graph, 'Faras')"
      ],
      "metadata": {
        "colab": {
          "base_uri": "https://localhost:8080/"
        },
        "id": "2wPw4AOCKqto",
        "outputId": "a2665d87-2bc7-480a-8bc3-e1c06742b6c3"
      },
      "execution_count": 105,
      "outputs": [
        {
          "output_type": "stream",
          "name": "stdout",
          "text": [
            "Faras\n",
            "Imran\n",
            "Wasim\n",
            "Amin\n",
            "Nick\n",
            "Mike\n"
          ]
        }
      ]
    },
    {
      "cell_type": "code",
      "source": [
        "def dfs(visited, graph, node):\n",
        "    if node not in visited:\n",
        "        print(node)\n",
        "        visited.add(node)\n",
        "        for neighbour in graph[node]:\n",
        "            dfs(visited, graph, neighbour)\n",
        "\n",
        "# Definisi graph\n",
        "graph = {\n",
        "    'Amin': ['Wasim', 'Nick', 'Mike'],\n",
        "    'Wasim': ['Imran', 'Amin'],\n",
        "    'Imran': ['Wasim', 'Faras'],\n",
        "    'Faras': ['Imran'],\n",
        "    'Nick': ['Amin'],\n",
        "    'Mike': ['Amin']\n",
        "}\n",
        "\n",
        "# Set visited awal\n",
        "visited = set()\n",
        "\n",
        "# Panggil fungsi DFS\n",
        "dfs(visited, graph, 'Nick')"
      ],
      "metadata": {
        "colab": {
          "base_uri": "https://localhost:8080/"
        },
        "id": "m9SbfjCHKslZ",
        "outputId": "df68eadf-e108-4b7a-e82a-28acdc860f91"
      },
      "execution_count": 100,
      "outputs": [
        {
          "output_type": "stream",
          "name": "stdout",
          "text": [
            "Nick\n",
            "Amin\n",
            "Wasim\n",
            "Imran\n",
            "Faras\n",
            "Mike\n"
          ]
        }
      ]
    },
    {
      "cell_type": "code",
      "source": [
        "def dfs(graph, start, visited=None):\n",
        "    if visited is None:\n",
        "        visited = set()\n",
        "    visited.add(start)\n",
        "    print(start)\n",
        "    for neighbor in graph[start]:\n",
        "        if neighbor not in visited:\n",
        "            dfs(graph, neighbor, visited)\n",
        "\n",
        "graph = { 'rektor' :['warek 2', 'warek 1'],\n",
        "          'warek 1': ['rektor'],\n",
        "          'warek 2' : ['rektor', 'kaprodi 1', 'kaprodi 2', 'kaprodi 3'],\n",
        "          'kaprodi 1' : ['dosen A', 'dosen B', 'dosen C','warek 2'],\n",
        "          'kaprodi 2' : ['dosen D', 'dosen E','warek 2'],\n",
        "          'kaprodi 3' : ['dosen F', 'dosen G','warek 2'],\n",
        "          'dosen G' : ['kaprodi 3'],\n",
        "          'dosen F' : ['kaprodi 3'],\n",
        "          'dosen D' : ['kaprodi 2'],\n",
        "          'dosen E' : ['kaprodi 2'],\n",
        "          'dosen C' : ['kaprodi 1'],\n",
        "          'dosen B' : ['kaprodi 1'],\n",
        "          'dosen A' : ['kaprodi 1']\n",
        "          }\n"
      ],
      "metadata": {
        "id": "i54U8HKQThQG"
      },
      "execution_count": 101,
      "outputs": []
    },
    {
      "cell_type": "code",
      "source": [
        "dfs(graph, 'rektor')"
      ],
      "metadata": {
        "colab": {
          "base_uri": "https://localhost:8080/"
        },
        "id": "6AWTIR_0Ux2s",
        "outputId": "9ad68da4-e2d1-4a9c-c64e-c486149519e7"
      },
      "execution_count": 102,
      "outputs": [
        {
          "output_type": "stream",
          "name": "stdout",
          "text": [
            "rektor\n",
            "warek 2\n",
            "kaprodi 1\n",
            "dosen A\n",
            "dosen B\n",
            "dosen C\n",
            "kaprodi 2\n",
            "dosen D\n",
            "dosen E\n",
            "kaprodi 3\n",
            "dosen F\n",
            "dosen G\n",
            "warek 1\n"
          ]
        }
      ]
    },
    {
      "cell_type": "code",
      "source": [
        "#Finding the Shorted Path on unweight graph\n",
        "graph = { 0: [8,9],\n",
        "          1: [0, 8],\n",
        "          2: [12, 3],\n",
        "          3: [2, 4, 7],\n",
        "          4: [3],\n",
        "          5: [6],\n",
        "          6: [5, 7],\n",
        "          7: [10, 11, 6, 3],\n",
        "          8: [1, 9, 12],\n",
        "          9: [0, 8,],\n",
        "          10: [1, 9],\n",
        "          11: [10, 7],\n",
        "          12: [8, 2]\n",
        "          }"
      ],
      "metadata": {
        "id": "5lfLRnboKv4D"
      },
      "execution_count": 103,
      "outputs": []
    },
    {
      "cell_type": "code",
      "source": [
        "dfs(graph, 11)"
      ],
      "metadata": {
        "colab": {
          "base_uri": "https://localhost:8080/"
        },
        "id": "ITatmXziKzSc",
        "outputId": "c43f1302-18e9-4f82-fa83-60ef5dd902b6"
      },
      "execution_count": 104,
      "outputs": [
        {
          "output_type": "stream",
          "name": "stdout",
          "text": [
            "11\n",
            "10\n",
            "1\n",
            "0\n",
            "8\n",
            "9\n",
            "12\n",
            "2\n",
            "3\n",
            "4\n",
            "7\n",
            "6\n",
            "5\n"
          ]
        }
      ]
    },
    {
      "cell_type": "markdown",
      "source": [
        "Untuk BFS Pada Graph AMIN mencari simpul yang berdekatan atau bertetangga hingga menuju simpul jauh sehingga semuanya kena contohnya pada amin yaitu Amin,Wasim,Nick,Mike,Imran,Faras. dan juga untuk yang rektor bernilai 'rektor',warek 1,warek 2,kaprodi 1,kaprodi 2,kaprodi 3,dosen A,dosen B,dosen C,dosen D,dosen E,dosen F,dosen G.Lalu untuk titik 0 juga akan bernilai seperti BFS: 0, 9, 7, 11, 1, 8, 10, 12, 2, 3, 6, 4, 5.\n",
        "\n",
        "Untuk DFS yaitu menuju dari simpul akar akan menuju simpul terdalam mungkin pada setiap jalur tunggal yang unik dan secara berurutan untuk hasil yang telah terdalam maksimal algoritma akan menandai semua simpul yang terkait dengan jalur tersebut sebagaimana yang telah dikunjungi. DFS: 0, 9, 8, 1, 10, 3, 2, 12, 4, 7, 6, 5, 11 untuk rektor DFS: Warek 1, Warek 2, Kaprodi 1, Dosen A, Dosen B, Dosen C, Warek 2, Kaprodi 2, Dosen D, Dosen E, Kaprodi 3, Dosen F, Dosen G dan untuk DFS: Amin, Wasim, Imran, Faras, Nick, Mike.\n",
        "\n"
      ],
      "metadata": {
        "id": "pRKme4EbL_G9"
      }
    },
    {
      "cell_type": "markdown",
      "source": [],
      "metadata": {
        "id": "JYcZF55kPz5j"
      }
    }
  ]
}